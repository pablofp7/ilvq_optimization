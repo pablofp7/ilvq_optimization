{
 "cells": [
  {
   "cell_type": "markdown",
   "metadata": {},
   "source": [
    "# Probando regresión logística para ver si es apta para el entorno distribuido"
   ]
  },
  {
   "cell_type": "code",
   "execution_count": 1,
   "metadata": {},
   "outputs": [],
   "source": [
    "import os\n",
    "from pathlib import Path\n",
    "os.chdir(Path.cwd().parent)\n",
    "from prototypes.xuilvq import XuILVQ\n",
    "from prototypes_mod import XuILVQ as XuILVQ_mod\n",
    "from river import forest, tree, linear_model, optim\n",
    "from utils import read_dataset, evaluate_model_online_learning, calculate_metrics"
   ]
  },
  {
   "cell_type": "markdown",
   "metadata": {},
   "source": [
    "## Vamos a probar el dataset con Hoeffding tree, ilvq y regresion logística para comparar métricas y coste computacional"
   ]
  },
  {
   "cell_type": "code",
   "execution_count": 2,
   "metadata": {},
   "outputs": [
    {
     "name": "stderr",
     "output_type": "stream",
     "text": [
      "/home/pablo/ilvq_optimization/codigo/raspi/notebooks/utils.py:28: FutureWarning: Downcasting behavior in `replace` is deprecated and will be removed in a future version. To retain the old behavior, explicitly call `result.infer_objects(copy=False)`. To opt-in to the future behavior, set `pd.set_option('future.no_silent_downcasting', True)`\n",
      "  dataset.replace({'UP': 1, 'DOWN': 0, 'True': 1, 'False': 0}, inplace=True)\n"
     ]
    }
   ],
   "source": [
    "# Dictionary of dataset names and file paths\n",
    "data_name = {\n",
    "    \"elec\": \"electricity.csv\",\n",
    "}\n",
    "\n",
    "# Load dataset\n",
    "name = \"elec\"\n",
    "dataset = read_dataset(name, data_name)\n",
    "dataset = dataset.iloc[:5000]"
   ]
  },
  {
   "cell_type": "markdown",
   "metadata": {},
   "source": [
    "### Inicializar modelos"
   ]
  },
  {
   "cell_type": "code",
   "execution_count": 3,
   "metadata": {},
   "outputs": [],
   "source": [
    "# Inicializar modelos\n",
    "arf_model = forest.ARFClassifier(n_models=3, max_size=20)\n",
    "hoeffding_tree_model = tree.HoeffdingTreeClassifier()\n",
    "ilvq_model = XuILVQ()\n",
    "ilvq_mod_model = XuILVQ_mod()  # Versión modificada de ILVQ\n",
    "logistic_regression_model = linear_model.LogisticRegression()"
   ]
  },
  {
   "cell_type": "code",
   "execution_count": 4,
   "metadata": {},
   "outputs": [],
   "source": [
    "# Evaluar ARF\n",
    "conf_matrix_arf, elapsed_time_arf = evaluate_model_online_learning(arf_model, dataset)\n",
    "precision_arf, recall_arf, f1_arf = calculate_metrics(conf_matrix_arf)\n",
    "\n",
    "# Evaluar Hoeffding Tree\n",
    "conf_matrix_ht, elapsed_time_ht = evaluate_model_online_learning(hoeffding_tree_model, dataset)\n",
    "precision_ht, recall_ht, f1_ht = calculate_metrics(conf_matrix_ht)\n",
    "\n",
    "# Evaluar ILVQ\n",
    "conf_matrix_ilvq, elapsed_time_ilvq = evaluate_model_online_learning(ilvq_model, dataset)\n",
    "precision_ilvq, recall_ilvq, f1_ilvq = calculate_metrics(conf_matrix_ilvq)\n",
    "\n",
    "# Evaluar ILVQ Mod\n",
    "conf_matrix_ilvq_mod, elapsed_time_ilvq_mod = evaluate_model_online_learning(ilvq_mod_model, dataset)\n",
    "precision_ilvq_mod, recall_ilvq_mod, f1_ilvq_mod = calculate_metrics(conf_matrix_ilvq_mod)\n",
    "\n",
    "# Evaluar Regresión Logística\n",
    "conf_matrix_lr, elapsed_time_lr = evaluate_model_online_learning(logistic_regression_model, dataset)\n",
    "precision_lr, recall_lr, f1_lr = calculate_metrics(conf_matrix_lr)\n",
    "\n",
    "# Evaluar Regresión Logística Adaptada\n",
    "conf_matrix_lr_adapted, elapsed_time_lr_adapted = evaluate_model_online_learning(logistic_regression_model, dataset)\n",
    "precision_lr_adapted, recall_lr_adapted, f1_lr_adapted = calculate_metrics(conf_matrix_lr_adapted)"
   ]
  },
  {
   "cell_type": "code",
   "execution_count": 5,
   "metadata": {},
   "outputs": [
    {
     "name": "stdout",
     "output_type": "stream",
     "text": [
      "Resultados de la evaluación:\n",
      "ARF - Precisión: 0.8423, Recall: 0.8501, F1-score: 0.8462\n",
      "ARF - Tiempo de ejecución: 1.96 segundos\n",
      "\n",
      "Hoeffding Tree - Precisión: 0.7904, Recall: 0.8265, F1-score: 0.8080\n",
      "Hoeffding Tree - Tiempo de ejecución: 0.52 segundos\n",
      "\n",
      "ILVQ - Precisión: 0.7422, Recall: 0.6607, F1-score: 0.6991\n",
      "ILVQ - Tiempo de ejecución: 3.08 segundos\n",
      "\n",
      "ILVQ Mod - Precisión: 0.6882, Recall: 0.7536, F1-score: 0.7194\n",
      "ILVQ Mod - Tiempo de ejecución: 5.01 segundos\n",
      "\n",
      "Regresión Logística (Original) - Precisión: 0.6185, Recall: 0.4394, F1-score: 0.5138\n",
      "Regresión Logística (Original) - Tiempo de ejecución: 0.26 segundos\n",
      "\n",
      "Regresión Logística (Adaptada) - Precisión: 0.6448, Recall: 0.4492, F1-score: 0.5295\n",
      "Regresión Logística (Adaptada) - Tiempo de ejecución: 0.26 segundos\n",
      "\n"
     ]
    }
   ],
   "source": [
    "# Mostrar resultados\n",
    "print(\"Resultados de la evaluación:\")\n",
    "print(f\"ARF - Precisión: {precision_arf:.4f}, Recall: {recall_arf:.4f}, F1-score: {f1_arf:.4f}\")\n",
    "print(f\"ARF - Tiempo de ejecución: {elapsed_time_arf:.2f} segundos\\n\")\n",
    "\n",
    "print(f\"Hoeffding Tree - Precisión: {precision_ht:.4f}, Recall: {recall_ht:.4f}, F1-score: {f1_ht:.4f}\")\n",
    "print(f\"Hoeffding Tree - Tiempo de ejecución: {elapsed_time_ht:.2f} segundos\\n\")\n",
    "\n",
    "print(f\"ILVQ - Precisión: {precision_ilvq:.4f}, Recall: {recall_ilvq:.4f}, F1-score: {f1_ilvq:.4f}\")\n",
    "print(f\"ILVQ - Tiempo de ejecución: {elapsed_time_ilvq:.2f} segundos\\n\")\n",
    "\n",
    "print(f\"ILVQ Mod - Precisión: {precision_ilvq_mod:.4f}, Recall: {recall_ilvq_mod:.4f}, F1-score: {f1_ilvq_mod:.4f}\")\n",
    "print(f\"ILVQ Mod - Tiempo de ejecución: {elapsed_time_ilvq_mod:.2f} segundos\\n\")\n",
    "\n",
    "print(f\"Regresión Logística (Original) - Precisión: {precision_lr:.4f}, Recall: {recall_lr:.4f}, F1-score: {f1_lr:.4f}\")\n",
    "print(f\"Regresión Logística (Original) - Tiempo de ejecución: {elapsed_time_lr:.2f} segundos\\n\")\n",
    "\n",
    "print(f\"Regresión Logística (Adaptada) - Precisión: {precision_lr_adapted:.4f}, Recall: {recall_lr_adapted:.4f}, F1-score: {f1_lr_adapted:.4f}\")\n",
    "print(f\"Regresión Logística (Adaptada) - Tiempo de ejecución: {elapsed_time_lr_adapted:.2f} segundos\\n\")"
   ]
  }
 ],
 "metadata": {
  "kernelspec": {
   "display_name": "Python 3",
   "language": "python",
   "name": "python3"
  },
  "language_info": {
   "codemirror_mode": {
    "name": "ipython",
    "version": 3
   },
   "file_extension": ".py",
   "mimetype": "text/x-python",
   "name": "python",
   "nbconvert_exporter": "python",
   "pygments_lexer": "ipython3",
   "version": "3.10.12"
  }
 },
 "nbformat": 4,
 "nbformat_minor": 2
}
