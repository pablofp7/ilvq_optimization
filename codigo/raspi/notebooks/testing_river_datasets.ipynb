{
 "cells": [
  {
   "cell_type": "code",
   "execution_count": 31,
   "metadata": {},
   "outputs": [
    {
     "name": "stdout",
     "output_type": "stream",
     "text": [
      "Generated 100000 samples with concept drift and saved to sea_dataset_with_concept_drift.csv\n"
     ]
    }
   ],
   "source": [
    "# Re-importing necessary libraries after the reset\n",
    "import pandas as pd\n",
    "from river.datasets import synth\n",
    "\n",
    "# Parameters for concept drift\n",
    "num_samples_per_variant = 25_000  # Number of samples for each variant\n",
    "variants = [0, 1, 2, 3]  # SEA variants\n",
    "seed = 42  # For reproducibility\n",
    "\n",
    "# Initialize an empty DataFrame\n",
    "df = pd.DataFrame()\n",
    "\n",
    "# Generate samples with concept drift\n",
    "for variant in variants:\n",
    "    # Initialize SEA generator for the current variant\n",
    "    dataset = synth.SEA(variant=variant, seed=seed)\n",
    "    \n",
    "    # Generate samples for this variant\n",
    "    samples = list(dataset.take(num_samples_per_variant))\n",
    "    \n",
    "    # Convert to DataFrame\n",
    "    features = [x for x, _ in samples]\n",
    "    labels = [int(y) for _, y in samples]\n",
    "    temp_df = pd.DataFrame(features)\n",
    "    temp_df['label'] = labels\n",
    "    temp_df['variant'] = variant  # Add a column to indicate the variant\n",
    "\n",
    "    # Append to the main DataFrame\n",
    "    df = pd.concat([df, temp_df], ignore_index=True)\n",
    "\n",
    "# Save the dataset with concept drift to a CSV file\n",
    "output_file = \"sea_dataset_with_concept_drift.csv\"\n",
    "df.to_csv(output_file, index=False)\n",
    "\n",
    "print(f\"Generated {len(df)} samples with concept drift and saved to {output_file}\")\n"
   ]
  },
  {
   "cell_type": "code",
   "execution_count": 23,
   "metadata": {},
   "outputs": [
    {
     "ename": "AttributeError",
     "evalue": "'SEA' object has no attribute 'info'",
     "output_type": "error",
     "traceback": [
      "\u001b[0;31m---------------------------------------------------------------------------\u001b[0m",
      "\u001b[0;31mAttributeError\u001b[0m                            Traceback (most recent call last)",
      "Cell \u001b[0;32mIn[23], line 1\u001b[0m\n\u001b[0;32m----> 1\u001b[0m \u001b[38;5;28mprint\u001b[39m(\u001b[38;5;124mf\u001b[39m\u001b[38;5;124m\"\u001b[39m\u001b[38;5;124mThe dataset has \u001b[39m\u001b[38;5;132;01m{\u001b[39;00m\u001b[43mdataset\u001b[49m\u001b[38;5;241;43m.\u001b[39;49m\u001b[43minfo\u001b[49m()\u001b[38;5;132;01m}\u001b[39;00m\u001b[38;5;124m samples.\u001b[39m\u001b[38;5;124m\"\u001b[39m)\n",
      "\u001b[0;31mAttributeError\u001b[0m: 'SEA' object has no attribute 'info'"
     ]
    }
   ],
   "source": []
  },
  {
   "cell_type": "code",
   "execution_count": null,
   "metadata": {},
   "outputs": [],
   "source": []
  }
 ],
 "metadata": {
  "kernelspec": {
   "display_name": "Python 3",
   "language": "python",
   "name": "python3"
  },
  "language_info": {
   "codemirror_mode": {
    "name": "ipython",
    "version": 3
   },
   "file_extension": ".py",
   "mimetype": "text/x-python",
   "name": "python",
   "nbconvert_exporter": "python",
   "pygments_lexer": "ipython3",
   "version": "3.10.12"
  }
 },
 "nbformat": 4,
 "nbformat_minor": 2
}
